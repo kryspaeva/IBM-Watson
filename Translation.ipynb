{
 "cells": [
  {
   "cell_type": "code",
   "execution_count": null,
   "metadata": {},
   "outputs": [],
   "source": [
    "!pip install ibm_watson"
   ]
  },
  {
   "cell_type": "markdown",
   "metadata": {},
   "source": [
    "## Authenticate"
   ]
  },
  {
   "cell_type": "code",
   "execution_count": 6,
   "metadata": {},
   "outputs": [],
   "source": [
    "apikey = 'pqSdM-SkXXV_fvOVNxCIhR7L6SDUs6a1jfdgZF85dntf'\n",
    "url = 'https://api.eu-gb.language-translator.watson.cloud.ibm.com/instances/8f33832c-ef01-446d-aa43-6bdb81726d15'"
   ]
  },
  {
   "cell_type": "code",
   "execution_count": 7,
   "metadata": {},
   "outputs": [],
   "source": [
    "from ibm_watson import LanguageTranslatorV3\n",
    "from ibm_cloud_sdk_core.authenticators import IAMAuthenticator"
   ]
  },
  {
   "cell_type": "code",
   "execution_count": 8,
   "metadata": {},
   "outputs": [],
   "source": [
    "authenticator = IAMAuthenticator(apikey)\n",
    "lt = LanguageTranslatorV3(version='2018-05-01', authenticator=authenticator)\n",
    "lt.set_service_url(url)"
   ]
  },
  {
   "cell_type": "code",
   "execution_count": 9,
   "metadata": {},
   "outputs": [
    {
     "data": {
      "text/plain": [
       "{'translations': [{'translation': 'Hallo, Welt!'}],\n",
       " 'word_count': 4,\n",
       " 'character_count': 13}"
      ]
     },
     "execution_count": 9,
     "metadata": {},
     "output_type": "execute_result"
    }
   ],
   "source": [
    "translation = lt.translate(text='Hello, World!', model_id='en-de').get_result()\n",
    "translation"
   ]
  },
  {
   "cell_type": "markdown",
   "metadata": {},
   "source": [
    "## Identify Language"
   ]
  },
  {
   "cell_type": "code",
   "execution_count": 10,
   "metadata": {
    "collapsed": true
   },
   "outputs": [
    {
     "data": {
      "text/plain": [
       "{'languages': [{'language': 'en', 'confidence': 0.5507656393610009},\n",
       "  {'language': 'it', 'confidence': 0.0473551328052558},\n",
       "  {'language': 'nn', 'confidence': 0.039996612144291156},\n",
       "  {'language': 'tl', 'confidence': 0.03930760437767006},\n",
       "  {'language': 'nl', 'confidence': 0.03792564111019904},\n",
       "  {'language': 'fi', 'confidence': 0.029956606746893245},\n",
       "  {'language': 'hr', 'confidence': 0.025853931815949274},\n",
       "  {'language': 'de', 'confidence': 0.022059405974439016},\n",
       "  {'language': 'nb', 'confidence': 0.02044548180632823},\n",
       "  {'language': 'da', 'confidence': 0.020365769492365446},\n",
       "  {'language': 'es', 'confidence': 0.019357976146985947},\n",
       "  {'language': 'af', 'confidence': 0.01621775090071554},\n",
       "  {'language': 'sv', 'confidence': 0.016032370406975728},\n",
       "  {'language': 'sl', 'confidence': 0.013888916752527571},\n",
       "  {'language': 'cy', 'confidence': 0.012308227517265968},\n",
       "  {'language': 'ku', 'confidence': 0.011530868840170017},\n",
       "  {'language': 'eo', 'confidence': 0.008517343830758887},\n",
       "  {'language': 'is', 'confidence': 0.006543382512184049},\n",
       "  {'language': 'zh-TW', 'confidence': 0.005039524957001704},\n",
       "  {'language': 'zh', 'confidence': 0.00466975035627568},\n",
       "  {'language': 'so', 'confidence': 0.004402863465884363},\n",
       "  {'language': 'hu', 'confidence': 0.004361967149004352},\n",
       "  {'language': 'ms', 'confidence': 0.0036248813767550815},\n",
       "  {'language': 'pl', 'confidence': 0.0032413780971604243},\n",
       "  {'language': 'eu', 'confidence': 0.003140903748062106},\n",
       "  {'language': 'pt', 'confidence': 0.003096432480326348},\n",
       "  {'language': 'sk', 'confidence': 0.00262255745292149},\n",
       "  {'language': 'cs', 'confidence': 0.0026168515586497596},\n",
       "  {'language': 'ko', 'confidence': 0.00238991817608087},\n",
       "  {'language': 'sr', 'confidence': 0.002158828489432783},\n",
       "  {'language': 'et', 'confidence': 0.001972936083791323},\n",
       "  {'language': 'sq', 'confidence': 0.0016350540973261267},\n",
       "  {'language': 'tr', 'confidence': 0.0013884404526639147},\n",
       "  {'language': 'fr', 'confidence': 0.001383965860732468},\n",
       "  {'language': 'mt', 'confidence': 0.0013291759015708175},\n",
       "  {'language': 'vi', 'confidence': 0.0012990401606625915},\n",
       "  {'language': 'lt', 'confidence': 0.0012907535506847276},\n",
       "  {'language': 'lv', 'confidence': 0.0009160204702802234},\n",
       "  {'language': 'az', 'confidence': 0.0007849924285459639},\n",
       "  {'language': 'ro', 'confidence': 0.0007808232867257085},\n",
       "  {'language': 'ca', 'confidence': 0.0007111251652960313},\n",
       "  {'language': 'ja', 'confidence': 0.0006781254618168744},\n",
       "  {'language': 'ht', 'confidence': 0.0006121512660003915},\n",
       "  {'language': 'el', 'confidence': 0.0005921967710376366},\n",
       "  {'language': 'th', 'confidence': 0.0005894802323195088},\n",
       "  {'language': 'ru', 'confidence': 0.0004166724822143143},\n",
       "  {'language': 'ga', 'confidence': 0.0003283900784625276},\n",
       "  {'language': 'ur', 'confidence': 0.00032480622115060897},\n",
       "  {'language': 'ka', 'confidence': 0.0002042548701463623},\n",
       "  {'language': 'hi', 'confidence': 0.00020153820051514482},\n",
       "  {'language': 'mn', 'confidence': 0.00018706463185429179},\n",
       "  {'language': 'hy', 'confidence': 0.0001847318090983526},\n",
       "  {'language': 'he', 'confidence': 0.00017415641114419312},\n",
       "  {'language': 'bn', 'confidence': 0.00016055325471596766},\n",
       "  {'language': 'pa', 'confidence': 0.00014844588445090084},\n",
       "  {'language': 'lo', 'confidence': 0.00014003303972242052},\n",
       "  {'language': 'si', 'confidence': 0.00013977689449468965},\n",
       "  {'language': 'mr', 'confidence': 0.00013919674681948024},\n",
       "  {'language': 'be', 'confidence': 0.00013914926113938744},\n",
       "  {'language': 'kk', 'confidence': 0.0001383394003112643},\n",
       "  {'language': 'uk', 'confidence': 0.00012746734463555765},\n",
       "  {'language': 'ky', 'confidence': 0.00012659776571837954},\n",
       "  {'language': 'ta', 'confidence': 9.657004706251109e-05},\n",
       "  {'language': 'ar', 'confidence': 9.411125416917162e-05},\n",
       "  {'language': 'te', 'confidence': 8.203191778675706e-05},\n",
       "  {'language': 'bg', 'confidence': 8.11718823820166e-05},\n",
       "  {'language': 'my', 'confidence': 8.09889625726354e-05},\n",
       "  {'language': 'ml', 'confidence': 8.085863535678601e-05},\n",
       "  {'language': 'gu', 'confidence': 7.523464517807248e-05},\n",
       "  {'language': 'km', 'confidence': 7.321306481464878e-05},\n",
       "  {'language': 'ne', 'confidence': 7.228988974276572e-05},\n",
       "  {'language': 'ba', 'confidence': 6.823384139081482e-05},\n",
       "  {'language': 'cv', 'confidence': 6.422167795271154e-05},\n",
       "  {'language': 'ps', 'confidence': 5.105439993397277e-05},\n",
       "  {'language': 'fa', 'confidence': 2.058931795979463e-05},\n",
       "  {'language': 'pa-PK', 'confidence': 1.945512811798066e-05}]}"
      ]
     },
     "execution_count": 10,
     "metadata": {},
     "output_type": "execute_result"
    }
   ],
   "source": [
    "language_en = lt.identify('Hello, World!').get_result()\n",
    "language_en"
   ]
  },
  {
   "cell_type": "code",
   "execution_count": 11,
   "metadata": {
    "collapsed": true
   },
   "outputs": [
    {
     "data": {
      "text/plain": [
       "{'languages': [{'language': 'de', 'confidence': 0.8478515787812791},\n",
       "  {'language': 'nl', 'confidence': 0.06214188528640776},\n",
       "  {'language': 'en', 'confidence': 0.025145371014365182},\n",
       "  {'language': 'nb', 'confidence': 0.010567483581350614},\n",
       "  {'language': 'nn', 'confidence': 0.008373800304429291},\n",
       "  {'language': 'da', 'confidence': 0.008057521372299111},\n",
       "  {'language': 'tl', 'confidence': 0.006844927261891531},\n",
       "  {'language': 'ku', 'confidence': 0.003384967468716625},\n",
       "  {'language': 'hu', 'confidence': 0.0026924722975413895},\n",
       "  {'language': 'hr', 'confidence': 0.0025929275977358353},\n",
       "  {'language': 'fi', 'confidence': 0.002454629121070265},\n",
       "  {'language': 'so', 'confidence': 0.002176346730618167},\n",
       "  {'language': 'sv', 'confidence': 0.0018922732621721226},\n",
       "  {'language': 'es', 'confidence': 0.001605658236100841},\n",
       "  {'language': 'sl', 'confidence': 0.0015479661805219344},\n",
       "  {'language': 'et', 'confidence': 0.001015179669487468},\n",
       "  {'language': 'af', 'confidence': 0.0009902560279739653},\n",
       "  {'language': 'eu', 'confidence': 0.0009242119693777534},\n",
       "  {'language': 'it', 'confidence': 0.0008937679214776561},\n",
       "  {'language': 'ms', 'confidence': 0.0008705783342453675},\n",
       "  {'language': 'cy', 'confidence': 0.0007700579965208105},\n",
       "  {'language': 'zh-TW', 'confidence': 0.0006312366437275513},\n",
       "  {'language': 'zh', 'confidence': 0.0005849197230079321},\n",
       "  {'language': 'ca', 'confidence': 0.0005427380212260255},\n",
       "  {'language': 'vi', 'confidence': 0.0005270564020236022},\n",
       "  {'language': 'eo', 'confidence': 0.0004933459526691529},\n",
       "  {'language': 'is', 'confidence': 0.0004907506933312137},\n",
       "  {'language': 'sq', 'confidence': 0.00046771277421648575},\n",
       "  {'language': 'pl', 'confidence': 0.0003288522364558053},\n",
       "  {'language': 'sr', 'confidence': 0.0003143523443222334},\n",
       "  {'language': 'tr', 'confidence': 0.00025706579828336325},\n",
       "  {'language': 'cs', 'confidence': 0.0002236102232852056},\n",
       "  {'language': 'mt', 'confidence': 0.00020603138649260573},\n",
       "  {'language': 'pt', 'confidence': 0.00020509444442663816},\n",
       "  {'language': 'ro', 'confidence': 0.00019998934102580357},\n",
       "  {'language': 'sk', 'confidence': 0.0001941440417831775},\n",
       "  {'language': 'ht', 'confidence': 0.0001596105820600042},\n",
       "  {'language': 'fr', 'confidence': 0.0001595900092156482},\n",
       "  {'language': 'ko', 'confidence': 0.00015510333663434068},\n",
       "  {'language': 'lt', 'confidence': 0.00014090392971355983},\n",
       "  {'language': 'lv', 'confidence': 0.00013010456717653024},\n",
       "  {'language': 'ga', 'confidence': 0.00010110219104782865},\n",
       "  {'language': 'az', 'confidence': 7.463268929286901e-05},\n",
       "  {'language': 'el', 'confidence': 6.022253054185903e-05},\n",
       "  {'language': 'th', 'confidence': 5.9415114633920974e-05},\n",
       "  {'language': 'ja', 'confidence': 4.7980104698307625e-05},\n",
       "  {'language': 'ru', 'confidence': 3.950081748163379e-05},\n",
       "  {'language': 'ur', 'confidence': 2.472684356256539e-05},\n",
       "  {'language': 'hi', 'confidence': 2.251519718531554e-05},\n",
       "  {'language': 'mr', 'confidence': 2.248754745378433e-05},\n",
       "  {'language': 'hy', 'confidence': 2.197175118685605e-05},\n",
       "  {'language': 'he', 'confidence': 2.168819721049448e-05},\n",
       "  {'language': 'ka', 'confidence': 2.1232012457918997e-05},\n",
       "  {'language': 'mn', 'confidence': 2.0317207953376455e-05},\n",
       "  {'language': 'si', 'confidence': 1.8752589267276422e-05},\n",
       "  {'language': 'kk', 'confidence': 1.7258400333432145e-05},\n",
       "  {'language': 'bn', 'confidence': 1.721894087323597e-05},\n",
       "  {'language': 'pa', 'confidence': 1.717208564793927e-05},\n",
       "  {'language': 'be', 'confidence': 1.6391071333814397e-05},\n",
       "  {'language': 'uk', 'confidence': 1.5623201144256432e-05},\n",
       "  {'language': 'ky', 'confidence': 1.5167108930162065e-05},\n",
       "  {'language': 'lo', 'confidence': 1.4399046168591904e-05},\n",
       "  {'language': 'ne', 'confidence': 1.290736858262857e-05},\n",
       "  {'language': 'te', 'confidence': 1.237073522835224e-05},\n",
       "  {'language': 'ta', 'confidence': 1.229592773460398e-05},\n",
       "  {'language': 'gu', 'confidence': 1.1992929941824958e-05},\n",
       "  {'language': 'bg', 'confidence': 1.0052964332959685e-05},\n",
       "  {'language': 'ar', 'confidence': 9.62278690086782e-06},\n",
       "  {'language': 'cv', 'confidence': 9.089892009424899e-06},\n",
       "  {'language': 'ml', 'confidence': 9.045439585204773e-06},\n",
       "  {'language': 'my', 'confidence': 8.944563958276276e-06},\n",
       "  {'language': 'ba', 'confidence': 8.930998303898043e-06},\n",
       "  {'language': 'km', 'confidence': 8.511230902615803e-06},\n",
       "  {'language': 'ps', 'confidence': 5.135155820302165e-06},\n",
       "  {'language': 'fa', 'confidence': 2.6762202896145886e-06},\n",
       "  {'language': 'pa-PK', 'confidence': 2.5762713441716623e-06}]}"
      ]
     },
     "execution_count": 11,
     "metadata": {},
     "output_type": "execute_result"
    }
   ],
   "source": [
    "language_de = lt.identify('Hallo, Welt!').get_result()\n",
    "language_de"
   ]
  },
  {
   "cell_type": "markdown",
   "metadata": {},
   "source": [
    "## Translate from text and convert to audio"
   ]
  },
  {
   "cell_type": "code",
   "execution_count": 14,
   "metadata": {},
   "outputs": [],
   "source": [
    "from ibm_watson import TextToSpeechV1"
   ]
  },
  {
   "cell_type": "code",
   "execution_count": 15,
   "metadata": {},
   "outputs": [],
   "source": [
    "tts_apikey = '1JBLLY53OSm06AMWe4mp5YV4cQPBiVV9W6Rlv0ANa768'\n",
    "tts_url = 'https://api.eu-gb.text-to-speech.watson.cloud.ibm.com/instances/e66ea628-0bd5-472e-ab3f-d1f00740e0e3'"
   ]
  },
  {
   "cell_type": "code",
   "execution_count": 17,
   "metadata": {},
   "outputs": [],
   "source": [
    "tts_authenticator = IAMAuthenticator(tts_apikey)\n",
    "tts = TextToSpeechV1(authenticator=tts_authenticator)\n",
    "tts.set_service_url(tts_url)"
   ]
  },
  {
   "cell_type": "code",
   "execution_count": 18,
   "metadata": {},
   "outputs": [
    {
     "data": {
      "text/plain": [
       "['Ice cores drawn from Greenland, Antarctica, and tropical mountain glaciers show that Earth’s climate responds to changes in greenhouse gas levels. Ancient evidence can also be found in tree rings, ocean sediments, coral reefs, and layers of sedimentary rocks. This ancient, or paleoclimate, evidence reveals that current warming is occurring roughly ten times faster than the average rate of ice-age-recovery warming. Carbon dioxide from human activity is increasing more than 250 times faster than it did from natural sources after the last Ice Age.']"
      ]
     },
     "execution_count": 18,
     "metadata": {},
     "output_type": "execute_result"
    }
   ],
   "source": [
    "with open('global_warming.txt', 'r') as f:\n",
    "    text = f.readlines()\n",
    "\n",
    "text    "
   ]
  },
  {
   "cell_type": "code",
   "execution_count": 19,
   "metadata": {},
   "outputs": [
    {
     "data": {
      "text/plain": [
       "'Ice cores drawn from Greenland, Antarctica, and tropical mountain glaciers show that Earth’s climate responds to changes in greenhouse gas levels. Ancient evidence can also be found in tree rings, ocean sediments, coral reefs, and layers of sedimentary rocks. This ancient, or paleoclimate, evidence reveals that current warming is occurring roughly ten times faster than the average rate of ice-age-recovery warming. Carbon dioxide from human activity is increasing more than 250 times faster than it did from natural sources after the last Ice Age.'"
      ]
     },
     "execution_count": 19,
     "metadata": {},
     "output_type": "execute_result"
    }
   ],
   "source": [
    "text = ''.join(str(line) for line in text)\n",
    "text"
   ]
  },
  {
   "cell_type": "code",
   "execution_count": 20,
   "metadata": {},
   "outputs": [],
   "source": [
    "translation = lt.translate(text, model_id='en-de').get_result()"
   ]
  },
  {
   "cell_type": "code",
   "execution_count": 21,
   "metadata": {},
   "outputs": [
    {
     "data": {
      "text/plain": [
       "{'translations': [{'translation': 'Eiskerne, die aus Grönland, der Antarktis und den tropischen Gebirgsgletschern stammen, zeigen, dass das Klima der Erde auf Veränderungen der Treibhausgaswerte reagiert. Antike Beweise können auch in Baumringen, Ozeansedimenten, Korallenriffen und Schichten von Sedimentgesteinen gefunden werden. Diese antike oder paläoklimaische Evidenz zeigt, dass die aktuelle Erwärmung etwa zehnmal schneller als die durchschnittliche Rate der Erwärmung des Eiszeitalters auftritt. Kohlendioxid aus menschlicher Tätigkeit nimmt mehr als 250 Mal schneller zu, als es aus natürlichen Quellen nach der letzten Eiszeit stammt.'}],\n",
       " 'word_count': 100,\n",
       " 'character_count': 550}"
      ]
     },
     "execution_count": 21,
     "metadata": {},
     "output_type": "execute_result"
    }
   ],
   "source": [
    "translation"
   ]
  },
  {
   "cell_type": "code",
   "execution_count": 25,
   "metadata": {},
   "outputs": [
    {
     "data": {
      "text/plain": [
       "'Eiskerne, die aus Grönland, der Antarktis und den tropischen Gebirgsgletschern stammen, zeigen, dass das Klima der Erde auf Veränderungen der Treibhausgaswerte reagiert. Antike Beweise können auch in Baumringen, Ozeansedimenten, Korallenriffen und Schichten von Sedimentgesteinen gefunden werden. Diese antike oder paläoklimaische Evidenz zeigt, dass die aktuelle Erwärmung etwa zehnmal schneller als die durchschnittliche Rate der Erwärmung des Eiszeitalters auftritt. Kohlendioxid aus menschlicher Tätigkeit nimmt mehr als 250 Mal schneller zu, als es aus natürlichen Quellen nach der letzten Eiszeit stammt.'"
      ]
     },
     "execution_count": 25,
     "metadata": {},
     "output_type": "execute_result"
    }
   ],
   "source": [
    "text_de = translation['translations'][0]['translation']\n",
    "text_de"
   ]
  },
  {
   "cell_type": "code",
   "execution_count": 24,
   "metadata": {},
   "outputs": [
    {
     "data": {
      "text/plain": [
       "'Ледяные ядра, полученные из Гренландии, Антарктиды и тропических горных ледников, показывают, что климат Земли реагирует на изменения уровней парниковых газов. Древние доказательства можно найти также в кольцах деревьев, океанических отложениях, коралловых рифах и слоях осадочных пород. Этот древний, или палеоклимат, свидетельствует о том, что нынешнее потепление происходит примерно в десять раз быстрее, чем средняя скорость потепления льда. Углекислый газ в результате деятельности человека увеличивается более чем в 250 раз быстрее, чем это произошло из природных источников после последнего ледничного периода.'"
      ]
     },
     "execution_count": 24,
     "metadata": {},
     "output_type": "execute_result"
    }
   ],
   "source": [
    "text_ru = translation_ru['translations'][0]['translation']\n",
    "text_ru"
   ]
  },
  {
   "cell_type": "code",
   "execution_count": 26,
   "metadata": {},
   "outputs": [],
   "source": [
    "with open('./global_warming_de.mp3', 'wb') as audio_file:\n",
    "    res = tts.synthesize(text_de, accept='audio/mp3', voice='de-DE_DieterV3Voice').get_result()\n",
    "    audio_file.write(res.content)"
   ]
  }
 ],
 "metadata": {
  "kernelspec": {
   "display_name": "Python 3 (ipykernel)",
   "language": "python",
   "name": "python3"
  },
  "language_info": {
   "codemirror_mode": {
    "name": "ipython",
    "version": 3
   },
   "file_extension": ".py",
   "mimetype": "text/x-python",
   "name": "python",
   "nbconvert_exporter": "python",
   "pygments_lexer": "ipython3",
   "version": "3.9.7"
  }
 },
 "nbformat": 4,
 "nbformat_minor": 4
}
