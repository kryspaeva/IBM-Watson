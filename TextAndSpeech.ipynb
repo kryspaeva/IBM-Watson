{
 "cells": [
  {
   "cell_type": "code",
   "execution_count": null,
   "id": "7d70abc1",
   "metadata": {},
   "outputs": [],
   "source": [
    "!pip install ibm_watson"
   ]
  },
  {
   "cell_type": "markdown",
   "id": "373020a0",
   "metadata": {},
   "source": [
    "# Convert a Text to Speech"
   ]
  },
  {
   "cell_type": "code",
   "execution_count": 5,
   "id": "59354dc1",
   "metadata": {},
   "outputs": [],
   "source": [
    "url = 'https://api.eu-gb.text-to-speech.watson.cloud.ibm.com/instances/e66ea628-0bd5-472e-ab3f-d1f00740e0e3'\n",
    "apikey = '1JBLLY53OSm06AMWe4mp5YV4cQPBiVV9W6Rlv0ANa768'"
   ]
  },
  {
   "cell_type": "code",
   "execution_count": 6,
   "id": "f9742e34",
   "metadata": {},
   "outputs": [],
   "source": [
    "from ibm_watson import TextToSpeechV1\n",
    "from ibm_cloud_sdk_core.authenticators import IAMAuthenticator"
   ]
  },
  {
   "cell_type": "code",
   "execution_count": 7,
   "id": "5b04b955",
   "metadata": {},
   "outputs": [],
   "source": [
    "\"\"\"Setup service, New TTS service, Set URL Service\"\"\"\n",
    "authenticator = IAMAuthenticator(apikey)\n",
    "tts = TextToSpeechV1(authenticator=authenticator)\n",
    "tts.set_service_url(url)"
   ]
  },
  {
   "cell_type": "code",
   "execution_count": 18,
   "id": "d5913044",
   "metadata": {},
   "outputs": [
    {
     "data": {
      "text/plain": [
       "['Ice cores drawn from Greenland, Antarctica, and tropical mountain glaciers show that Earth’s climate responds to changes in greenhouse gas levels. Ancient evidence can also be found in tree rings, ocean sediments, coral reefs, and layers of sedimentary rocks. This ancient, or paleoclimate, evidence reveals that current warming is occurring roughly ten times faster than the average rate of ice-age-recovery warming. Carbon dioxide from human activity is increasing more than 250 times faster than it did from natural sources after the last Ice Age.']"
      ]
     },
     "execution_count": 18,
     "metadata": {},
     "output_type": "execute_result"
    }
   ],
   "source": [
    "with open('global_warming.txt', 'r') as f:\n",
    "    text = f.readlines()\n",
    "\n",
    "text    "
   ]
  },
  {
   "cell_type": "code",
   "execution_count": 19,
   "id": "abb649d8",
   "metadata": {},
   "outputs": [
    {
     "data": {
      "text/plain": [
       "'Ice cores drawn from Greenland, Antarctica, and tropical mountain glaciers show that Earth’s climate responds to changes in greenhouse gas levels. Ancient evidence can also be found in tree rings, ocean sediments, coral reefs, and layers of sedimentary rocks. This ancient, or paleoclimate, evidence reveals that current warming is occurring roughly ten times faster than the average rate of ice-age-recovery warming. Carbon dioxide from human activity is increasing more than 250 times faster than it did from natural sources after the last Ice Age.'"
      ]
     },
     "execution_count": 19,
     "metadata": {},
     "output_type": "execute_result"
    }
   ],
   "source": [
    "text = ''.join(str(line) for line in text)\n",
    "text"
   ]
  },
  {
   "cell_type": "code",
   "execution_count": 20,
   "id": "eb052713",
   "metadata": {},
   "outputs": [],
   "source": [
    "with open('./global_warming.mp3', 'wb') as audio_file:\n",
    "    res = tts.synthesize(text, accept='audio/mp3', voice='en-US_AllisonV3Voice').get_result()\n",
    "    audio_file.write(res.content)"
   ]
  },
  {
   "cell_type": "markdown",
   "id": "906d3982",
   "metadata": {},
   "source": [
    "## Convert a Speech to Text"
   ]
  },
  {
   "cell_type": "code",
   "execution_count": 21,
   "id": "a9474747",
   "metadata": {},
   "outputs": [],
   "source": [
    "from ibm_watson import SpeechToTextV1\n",
    "from ibm_cloud_sdk_core.authenticators import IAMAuthenticator"
   ]
  },
  {
   "cell_type": "code",
   "execution_count": 22,
   "id": "114ae41e",
   "metadata": {},
   "outputs": [],
   "source": [
    "url = 'https://api.eu-gb.speech-to-text.watson.cloud.ibm.com/instances/2c37641a-9fa0-44fd-a690-b46af742a273'\n",
    "apikey = 'Er8pubB9rBJBM5o3udGvhDhU116fTudU0ukd5WE5hX7b'"
   ]
  },
  {
   "cell_type": "code",
   "execution_count": 23,
   "id": "4fc1514c",
   "metadata": {},
   "outputs": [],
   "source": [
    "authenticator = IAMAuthenticator(apikey)\n",
    "stt = SpeechToTextV1(authenticator=authenticator)\n",
    "stt.set_service_url(url)"
   ]
  },
  {
   "cell_type": "code",
   "execution_count": 25,
   "id": "8025056b",
   "metadata": {},
   "outputs": [],
   "source": [
    "with open('global_warming.mp3', 'rb') as f:\n",
    "    res = stt.recognize(audio=f, content_type='audio/mp3', model='en-US_NarrowbandModel').get_result()"
   ]
  },
  {
   "cell_type": "code",
   "execution_count": 26,
   "id": "25b2c667",
   "metadata": {},
   "outputs": [
    {
     "data": {
      "text/plain": [
       "{'result_index': 0,\n",
       " 'results': [{'final': True,\n",
       "   'alternatives': [{'transcript': \"hi score is drawn from Greenland Antarctica and tropical mountain glaciers show that %HESITATION it's Klein it responds to changes in greenhouse gas levels ancient evidence can also be found in tree rings ocean sediments coral reefs and layers of sedimentary rocks this ancient or penny acclimate evidence reveals that current warning is occurring roughly ten times faster than the average rate of I. stage recovery warning carbon dioxide from human activity is increasing more than two hundred fifty times faster than it did from natural sources after the last ice age \",\n",
       "     'confidence': 0.88}]}]}"
      ]
     },
     "execution_count": 26,
     "metadata": {},
     "output_type": "execute_result"
    }
   ],
   "source": [
    "res"
   ]
  },
  {
   "cell_type": "code",
   "execution_count": 27,
   "id": "393baeb4",
   "metadata": {},
   "outputs": [
    {
     "data": {
      "text/plain": [
       "\"hi score is drawn from Greenland Antarctica and tropical mountain glaciers show that %HESITATION it's Klein it responds to changes in greenhouse gas levels ancient evidence can also be found in tree rings ocean sediments coral reefs and layers of sedimentary rocks this ancient or penny acclimate evidence reveals that current warning is occurring roughly ten times faster than the average rate of I. stage recovery warning carbon dioxide from human activity is increasing more than two hundred fifty times faster than it did from natural sources after the last ice age \""
      ]
     },
     "execution_count": 27,
     "metadata": {},
     "output_type": "execute_result"
    }
   ],
   "source": [
    "text = res['results'][0]['alternatives'][0]['transcript']\n",
    "text"
   ]
  },
  {
   "cell_type": "code",
   "execution_count": 28,
   "id": "260e98ba",
   "metadata": {},
   "outputs": [
    {
     "data": {
      "text/plain": [
       "0.88"
      ]
     },
     "execution_count": 28,
     "metadata": {},
     "output_type": "execute_result"
    }
   ],
   "source": [
    "confidence = res['results'][0]['alternatives'][0]['confidence']\n",
    "confidence"
   ]
  }
 ],
 "metadata": {
  "kernelspec": {
   "display_name": "Python 3 (ipykernel)",
   "language": "python",
   "name": "python3"
  },
  "language_info": {
   "codemirror_mode": {
    "name": "ipython",
    "version": 3
   },
   "file_extension": ".py",
   "mimetype": "text/x-python",
   "name": "python",
   "nbconvert_exporter": "python",
   "pygments_lexer": "ipython3",
   "version": "3.9.7"
  }
 },
 "nbformat": 4,
 "nbformat_minor": 5
}
